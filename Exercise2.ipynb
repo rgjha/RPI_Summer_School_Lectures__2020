{
  "nbformat": 4,
  "nbformat_minor": 0,
  "metadata": {
    "colab": {
      "name": "Exercise1.ipynb",
      "provenance": [],
      "collapsed_sections": []
    },
    "kernelspec": {
      "name": "python3",
      "display_name": "Python 3"
    }
  },
  "cells": [
    {
      "cell_type": "code",
      "metadata": {
        "id": "Q3eTzs8_X9yk",
        "colab_type": "code",
        "outputId": "178dd95e-2f58-4bbe-b4dd-43bef59da655",
        "colab": {
          "base_uri": "https://localhost:8080/",
          "height": 33
        }
      },
      "source": [
        "import numpy as np\n",
        "A = np.random.rand(3,3)\n",
        "B = np.random.rand(3,3)\n",
        "C = np.random.rand(3,3)\n",
        "D = np.random.rand(3,3)\n",
        "res1 = np.einsum('ii', np.einsum('ij,jp->ip', np.einsum('ik,kj->ij', np.einsum('ij,jk->ik', A,B),C),D))\n",
        "res2 = np.trace(np.dot(np.dot(np.dot(A,B),C),D))\n",
        "print (res1-res2)                                                                               "
      ],
      "execution_count": 0,
      "outputs": [
        {
          "output_type": "stream",
          "text": [
            "0.0\n"
          ],
          "name": "stdout"
        }
      ]
    }
  ]
}