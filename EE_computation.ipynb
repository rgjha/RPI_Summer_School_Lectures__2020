{
  "nbformat": 4,
  "nbformat_minor": 0,
  "metadata": {
    "colab": {
      "name": "EE_computation.ipynb",
      "provenance": []
    },
    "kernelspec": {
      "name": "python3",
      "display_name": "Python 3"
    }
  },
  "cells": [
    {
      "cell_type": "code",
      "metadata": {
        "id": "v1z_gWWVw16d",
        "colab_type": "code",
        "outputId": "49eb7262-300b-4ca5-a022-7bef767bf47e",
        "colab": {
          "base_uri": "https://localhost:8080/",
          "height": 34
        }
      },
      "source": [
        "# This code generates a random state of \"N\" qubits and \n",
        "# then computes the reduced density matrix of first \"p\" qubits. \n",
        "# Then it calculates the entanglement entropy. Note that \n",
        "# the entropy will be \"p\". \n",
        "\n",
        "import sys\n",
        "import math\n",
        "from math import *\n",
        "import numpy as np \n",
        "from scipy import special\n",
        "from numpy import linalg as LA\n",
        "from numpy.linalg import matrix_power\n",
        "from numpy import ndarray\n",
        "import time\n",
        "\n",
        "N=24 \n",
        "p=7   # Becomes expensive with increasing $p$. Don't try p>10\n",
        "Psi = np.random.randn(2**N) \n",
        "# 2^N random coefficients \n",
        "Psi = Psi/LA.norm(Psi) \n",
        "\n",
        "A = Psi.reshape(2**p, 2**(N-p)) # A and B sub-systems \n",
        "Rho = np.dot(A, np.transpose(A).conj()) \n",
        "#print (\"Shape of rho\", np.shape(Rho))\n",
        "#print (Rho) # Convince: Easy to see that \\rho will be \n",
        "\n",
        "def comEE(Rho):\n",
        "\tu,v = LA.eig(Rho)\n",
        "\tchi = u.shape[0]  \n",
        "\t#print (\"Shape of u\", np.shape(u))  # 2^p \n",
        "\t#print (\"Shape of v\", np.shape(v))  # 2^p x 2^p\n",
        "\tEE = 0\n",
        "\tfor n in range (0 , chi):\n",
        "\t\tif u[n] > 0:\n",
        "\t\t\tEE += -u[n] * math.log(u[n],2) # Sum over  - \\rho_{i} log \\rho_{i}\n",
        "\treturn EE \n",
        "\n",
        "if __name__ == \"__main__\":\n",
        "\n",
        "  if p > 7:\n",
        "    print (\"Lower p to finish in time\")\n",
        "    sys.exit(1)\n",
        "\n",
        "  entropy = comEE(Rho)\n",
        "  print (\"Entanglement Entropy is\", entropy)\n",
        "\n",
        "# S_exact = -rho log2(rho) = -1/d * ln (1/d) summed 'd' times i.e. log2(d) = log2(2^p) = p"
      ],
      "execution_count": 0,
      "outputs": [
        {
          "output_type": "stream",
          "text": [
            "Entanglement Entropy is 6.999308861263006\n"
          ],
          "name": "stdout"
        }
      ]
    }
  ]
}
