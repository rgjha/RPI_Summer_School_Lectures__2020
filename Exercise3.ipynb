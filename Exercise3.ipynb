{
  "nbformat": 4,
  "nbformat_minor": 0,
  "metadata": {
    "colab": {
      "name": "Exercise3.ipynb",
      "provenance": []
    },
    "kernelspec": {
      "name": "python3",
      "display_name": "Python 3"
    }
  },
  "cells": [
    {
      "cell_type": "code",
      "metadata": {
        "id": "EwclB9vF8nqV",
        "colab_type": "code",
        "outputId": "37960524-b6c3-41d0-b862-3e6ed3f73b26",
        "colab": {
          "base_uri": "https://localhost:8080/",
          "height": 34
        }
      },
      "source": [
        "import numpy as np  \n",
        "from ncon import ncon\n",
        "\n",
        "B = np.random.rand(3,3,3,3)\n",
        "C = np.random.rand(3,3,3,3)\n",
        "D = np.random.rand(3,3,3,3)\n",
        "A = ncon((B, C, D),([1,2,3,4],[2,1,-2,-1],[4,3,-4,-3]))\n",
        "A1 = np.einsum('ijkl,jiqr,lkab->rqba',B,C,D) \n",
        "print (np.allclose(A,A1))"
      ],
      "execution_count": 0,
      "outputs": [
        {
          "output_type": "stream",
          "text": [
            "True\n"
          ],
          "name": "stdout"
        }
      ]
    }
  ]
}